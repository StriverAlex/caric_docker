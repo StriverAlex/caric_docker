{
 "cells": [
  {
   "cell_type": "code",
   "execution_count": 35,
   "metadata": {},
   "outputs": [
    {
     "name": "stdout",
     "output_type": "stream",
     "text": [
      " 0.881464,-0.472253, 0.000000\n",
      " 0.472253, 0.881464, 0.000000\n",
      " 0.000000, 0.000000, 1.000000\n"
     ]
    }
   ],
   "source": [
    "import myutil as util\n",
    "import numpy as np\n",
    "\n",
    "To = np.array([\n",
    "              [ 0.829285323620, 0.558830618858, 0.000000000000, ],\n",
    "              [-0.558830618858, 0.829285323620, 0.000000000000, ],\n",
    "              [ 0.000000000000, 0.000000000000, 1.000000000000, ],\n",
    "             ])\n",
    "\n",
    "T = np.array([[0.731353700161, -0.681998372078, 0.000000000000, 0],\n",
    "              [0.681998372078,  0.731353700161, 0.000000000000, 0],\n",
    "              [0.000000000000,  0.000000000000, 1.000000000000, 0],\n",
    "              [0.000000000000,  0.000000000000, 0.000000000000, 1]\n",
    "             ]).reshape((4, 4))\n",
    "\n",
    "\n",
    "# c_new = np.dot(T[0:3, 0:3], c)\n",
    "# c_new = np.round(c_new, decimals=3)\n",
    "\n",
    "# print(f'{c_new[0,0]:.03f},\\n{c_new[1,0]:.03f},\\n{c_new[2,0]:.03f}')\n",
    "\n",
    "R_new = np.dot(T[0:3, 0:3], R)\n",
    "\n",
    "print(f'{R_new[0,0]:9.06f},{R_new[0,1]:9.06f},{R_new[0,2]:9.06f}')\n",
    "print(f'{R_new[1,0]:9.06f},{R_new[1,1]:9.06f},{R_new[1,2]:9.06f}')\n",
    "print(f'{R_new[2,0]:9.06f},{R_new[2,1]:9.06f},{R_new[2,2]:9.06f}')\n",
    "\n",
    "\n"
   ]
  }
 ],
 "metadata": {
  "kernelspec": {
   "display_name": "py3810",
   "language": "python",
   "name": "python3"
  },
  "language_info": {
   "codemirror_mode": {
    "name": "ipython",
    "version": 3
   },
   "file_extension": ".py",
   "mimetype": "text/x-python",
   "name": "python",
   "nbconvert_exporter": "python",
   "pygments_lexer": "ipython3",
   "version": "3.8.10"
  }
 },
 "nbformat": 4,
 "nbformat_minor": 2
}
